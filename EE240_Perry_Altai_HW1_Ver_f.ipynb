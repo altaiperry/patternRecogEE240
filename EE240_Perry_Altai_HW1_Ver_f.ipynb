{
 "cells": [
  {
   "cell_type": "code",
   "execution_count": 1,
   "id": "liquid-sussex",
   "metadata": {},
   "outputs": [],
   "source": [
    "# Homework 1\n",
    "# Altai Perry\n",
    "# Due 04-15-21"
   ]
  },
  {
   "cell_type": "code",
   "execution_count": 5,
   "id": "minus-prefix",
   "metadata": {},
   "outputs": [],
   "source": [
    "#Import packages\n",
    "import numpy as np\n",
    "import matplotlib.pyplot as plt\n",
    "import tensorflow as tf\n",
    "from sklearn.datasets import fetch_openml\n",
    "import random"
   ]
  },
  {
   "cell_type": "code",
   "execution_count": 4,
   "id": "fifteen-jewel",
   "metadata": {},
   "outputs": [],
   "source": [
    "mnist = fetch_openml('mnist_784') # For latar"
   ]
  },
  {
   "cell_type": "code",
   "execution_count": 11,
   "id": "quantitative-field",
   "metadata": {},
   "outputs": [],
   "source": [
    "# H1.1\n",
    "# Generate Experiment 0 is tails, 1 is heads (easier than juggling strings)\n",
    "C1=np.zeros(1000);C2=np.zeros(1000);C3=np.zeros(1000);C4=np.zeros(1000);C5=np.zeros(1000);C6=np.zeros(1000);C7=np.zeros(1000);C8=np.zeros(1000);C9=np.zeros(1000);C10=np.zeros(1000)\n",
    "coins=[C1, C2, C3, C4, C5, C6, C7, C8, C9, C10]\n",
    "for coin in coins:\n",
    "    for i in range(1000):\n",
    "        coin[i]=random.randint(0,1)"
   ]
  },
  {
   "cell_type": "code",
   "execution_count": 13,
   "id": "racial-village",
   "metadata": {},
   "outputs": [
    {
     "name": "stdout",
     "output_type": "stream",
     "text": [
      "[0. 0. 1. 0. 0. 0. 1. 1. 0. 0. 1. 1. 1. 0. 1. 0. 1. 1. 0. 1. 1. 1. 0. 0.\n",
      " 0. 1. 1. 1. 1. 0. 0. 0. 1. 1. 1. 1. 0. 1. 1. 1. 0. 1. 0. 1. 1. 1. 1. 1.\n",
      " 0. 1. 1. 1. 1. 1. 1. 0. 1. 1. 0. 0. 0. 0. 1. 1. 1. 1. 1. 1. 0. 0. 0. 1.\n",
      " 1. 0. 0. 0. 1. 0. 0. 0. 0. 1. 1. 1. 0. 0. 1. 0. 0. 0. 0. 0. 0. 0. 0. 0.\n",
      " 0. 0. 0. 1. 1. 0. 1. 0. 0. 0. 1. 1. 1. 0. 1. 0. 1. 0. 0. 0. 0. 1. 0. 0.\n",
      " 1. 1. 0. 0. 1. 0. 1. 1. 0. 0. 1. 1. 0. 0. 1. 1. 0. 1. 1. 1. 0. 1. 1. 1.\n",
      " 1. 1. 0. 1. 1. 1. 0. 1. 1. 1. 0. 0. 1. 0. 1. 0. 0. 1. 1. 1. 0. 0. 1. 1.\n",
      " 1. 1. 0. 1. 1. 1. 0. 1. 0. 1. 0. 0. 1. 0. 0. 1. 1. 1. 1. 1. 0. 0. 0. 0.\n",
      " 0. 0. 1. 1. 1. 0. 1. 0. 0. 1. 1. 1. 0. 1. 0. 0. 0. 0. 0. 1. 1. 0. 0. 1.\n",
      " 0. 0. 1. 0. 0. 1. 0. 1. 1. 0. 1. 1. 0. 0. 1. 1. 0. 1. 0. 0. 1. 1. 0. 1.\n",
      " 1. 0. 1. 1. 1. 1. 0. 0. 0. 0. 1. 0. 1. 1. 1. 1. 0. 1. 1. 0. 0. 1. 1. 0.\n",
      " 0. 0. 0. 1. 0. 1. 0. 0. 1. 0. 0. 0. 1. 0. 1. 1. 1. 0. 1. 0. 1. 0. 1. 1.\n",
      " 1. 1. 1. 0. 1. 0. 0. 1. 1. 1. 1. 1. 1. 1. 1. 0. 0. 0. 0. 1. 1. 0. 0. 1.\n",
      " 0. 1. 0. 0. 0. 1. 0. 1. 0. 1. 1. 1. 0. 1. 1. 0. 0. 0. 0. 0. 0. 0. 1. 0.\n",
      " 1. 1. 1. 0. 0. 1. 0. 0. 1. 1. 0. 1. 0. 0. 1. 1. 0. 0. 0. 1. 1. 1. 0. 1.\n",
      " 0. 1. 0. 0. 0. 1. 1. 0. 0. 0. 0. 1. 0. 0. 1. 1. 1. 0. 0. 0. 0. 1. 1. 1.\n",
      " 1. 0. 0. 0. 1. 0. 1. 1. 0. 1. 0. 1. 1. 1. 1. 1. 1. 0. 0. 0. 1. 1. 1. 0.\n",
      " 1. 1. 1. 1. 1. 1. 0. 1. 0. 0. 0. 0. 0. 1. 1. 1. 1. 0. 1. 1. 1. 0. 1. 1.\n",
      " 1. 0. 0. 0. 0. 0. 1. 0. 0. 0. 0. 0. 0. 1. 0. 1. 0. 0. 0. 1. 1. 1. 1. 1.\n",
      " 0. 0. 1. 1. 1. 0. 1. 0. 1. 1. 0. 1. 1. 1. 1. 0. 0. 0. 0. 0. 1. 0. 1. 1.\n",
      " 1. 1. 0. 1. 1. 1. 0. 1. 1. 0. 0. 0. 0. 1. 1. 0. 1. 1. 0. 0. 0. 1. 0. 0.\n",
      " 1. 1. 0. 0. 0. 0. 1. 1. 1. 1. 1. 1. 0. 1. 1. 0. 0. 0. 0. 1. 1. 0. 1. 0.\n",
      " 1. 1. 1. 1. 0. 1. 1. 0. 0. 1. 0. 0. 0. 0. 1. 1. 0. 0. 0. 0. 0. 0. 0. 0.\n",
      " 0. 0. 1. 1. 0. 1. 1. 1. 1. 0. 1. 1. 1. 0. 0. 0. 0. 1. 1. 0. 1. 0. 0. 0.\n",
      " 0. 1. 1. 1. 0. 1. 1. 0. 1. 1. 0. 1. 0. 1. 0. 0. 1. 1. 1. 1. 0. 0. 0. 1.\n",
      " 1. 1. 1. 0. 0. 0. 1. 0. 0. 1. 1. 1. 1. 1. 0. 1. 1. 0. 0. 0. 1. 1. 1. 0.\n",
      " 0. 0. 1. 0. 1. 0. 1. 0. 0. 1. 1. 0. 1. 0. 0. 1. 1. 1. 0. 0. 0. 1. 1. 1.\n",
      " 1. 1. 1. 1. 1. 0. 0. 1. 0. 1. 0. 0. 1. 1. 1. 0. 1. 0. 1. 0. 1. 1. 0. 0.\n",
      " 0. 0. 0. 0. 1. 1. 0. 0. 0. 0. 1. 0. 1. 0. 1. 0. 1. 1. 0. 1. 0. 0. 0. 1.\n",
      " 1. 1. 0. 1. 1. 1. 0. 1. 1. 0. 1. 1. 1. 1. 0. 0. 0. 0. 1. 0. 0. 0. 1. 1.\n",
      " 0. 0. 0. 0. 1. 0. 0. 1. 0. 0. 0. 0. 1. 0. 0. 0. 1. 0. 0. 1. 0. 0. 0. 1.\n",
      " 0. 0. 0. 0. 0. 0. 0. 1. 1. 0. 1. 0. 0. 1. 1. 0. 0. 0. 0. 1. 1. 1. 1. 1.\n",
      " 0. 0. 1. 0. 1. 1. 1. 1. 1. 0. 0. 0. 0. 1. 1. 1. 1. 1. 1. 1. 1. 1. 0. 1.\n",
      " 1. 0. 1. 0. 0. 0. 1. 0. 1. 0. 0. 0. 0. 0. 0. 0. 1. 1. 0. 0. 0. 1. 1. 1.\n",
      " 1. 1. 1. 0. 1. 0. 1. 1. 1. 1. 1. 1. 0. 1. 0. 1. 1. 0. 0. 1. 0. 1. 0. 1.\n",
      " 0. 1. 0. 1. 0. 1. 1. 1. 1. 1. 0. 0. 0. 1. 1. 1. 0. 1. 1. 0. 0. 1. 0. 0.\n",
      " 0. 1. 0. 0. 1. 0. 1. 0. 0. 1. 0. 0. 1. 1. 0. 1. 0. 0. 0. 1. 1. 0. 1. 1.\n",
      " 0. 1. 0. 0. 0. 1. 0. 0. 1. 1. 1. 0. 0. 1. 0. 1. 0. 1. 0. 1. 0. 1. 1. 1.\n",
      " 1. 1. 0. 0. 0. 1. 0. 0. 1. 1. 0. 1. 1. 0. 1. 1. 1. 1. 1. 1. 1. 1. 1. 0.\n",
      " 1. 0. 1. 1. 0. 0. 0. 0. 1. 1. 0. 0. 1. 0. 0. 0. 0. 1. 0. 1. 1. 0. 1. 1.\n",
      " 0. 0. 0. 1. 0. 0. 0. 0. 1. 0. 0. 0. 0. 0. 1. 1. 0. 0. 1. 0. 0. 1. 0. 1.\n",
      " 0. 0. 1. 0. 0. 1. 0. 1. 0. 0. 1. 0. 1. 1. 0. 1.]\n",
      "506.0\n"
     ]
    }
   ],
   "source": [
    "# Check\n",
    "print(C3) #make sure the vectors was populated\n",
    "print(sum(C3)) #should be close to 500 (probably not exactly)"
   ]
  },
  {
   "cell_type": "code",
   "execution_count": 14,
   "id": "charitable-coaching",
   "metadata": {},
   "outputs": [
    {
     "name": "stdout",
     "output_type": "stream",
     "text": [
      "6\n",
      "5\n"
     ]
    }
   ],
   "source": [
    "# three coins \n",
    "# C1, Crand, Cmin\n",
    "# C1 is done\n",
    "# Crand\n",
    "a = random.randint(0,9); print(a)\n",
    "Crand=coins[a]\n",
    "# Cmin\n",
    "mumin=600\n",
    "for i in range(10):\n",
    "    mu=sum(coins[i]) # simple average proportional to sum bc all are same size\n",
    "    if mu < mumin:\n",
    "        minindex=i\n",
    "        mumin=mu\n",
    "print(minindex)\n",
    "Cmin=coins[minindex]"
   ]
  },
  {
   "cell_type": "code",
   "execution_count": 16,
   "id": "lesser-coordinate",
   "metadata": {},
   "outputs": [
    {
     "name": "stdout",
     "output_type": "stream",
     "text": [
      "0.498\n",
      "0.518\n",
      "0.49\n"
     ]
    }
   ],
   "source": [
    "mu_c1=np.average(C1); print(mu_c1)\n",
    "mu_crand=np.average(Crand); print(mu_crand)\n",
    "mu_cmin=np.average(Cmin); print(mu_cmin)"
   ]
  },
  {
   "cell_type": "code",
   "execution_count": 18,
   "id": "incredible-visitor",
   "metadata": {},
   "outputs": [],
   "source": [
    "nu_c1=[]\n",
    "nu_crand=[]\n",
    "nu_cmin=[]\n",
    "for i in range(10000):\n",
    "    C1=np.zeros(1000);C2=np.zeros(1000);C3=np.zeros(1000);C4=np.zeros(1000);C5=np.zeros(1000);C6=np.zeros(1000);C7=np.zeros(1000);C8=np.zeros(1000);C9=np.zeros(1000);C10=np.zeros(1000)\n",
    "    coins=[C1, C2, C3, C4, C5, C6, C7, C8, C9, C10]\n",
    "    for coin in coins:\n",
    "        for j in range(1000):\n",
    "            coin[j]=random.randint(0,1)\n",
    "    a = random.randint(0,9)\n",
    "    Crand=coins[a]\n",
    "    # Cmin\n",
    "    mumin=600\n",
    "    for k in range(10):\n",
    "        mu=sum(coins[k]) # simple average proportional to sum bc all are same size\n",
    "        if mu < mumin:\n",
    "            minindex=k\n",
    "            mumin=mu\n",
    "    Cmin=coins[minindex]\n",
    "    mu_c1=np.average(C1)\n",
    "    mu_crand=np.average(Crand)\n",
    "    mu_cmin=np.average(Cmin)\n",
    "    nu_c1.append(mu_c1)\n",
    "    nu_crand.append(mu_crand)\n",
    "    nu_cmin.append(mu_cmin)"
   ]
  },
  {
   "cell_type": "code",
   "execution_count": 322,
   "id": "skilled-sussex",
   "metadata": {
    "scrolled": false
   },
   "outputs": [
    {
     "data": {
      "image/png": "[encoded data removed]",
      "text/plain": [
       "<Figure size 432x288 with 1 Axes>"
      ]
     },
     "metadata": {
      "needs_background": "light"
     },
     "output_type": "display_data"
    },
    {
     "data": {
      "image/png": "[encoded data removed]",
      "text/plain": [
       "<Figure size 432x288 with 1 Axes>"
      ]
     },
     "metadata": {
      "needs_background": "light"
     },
     "output_type": "display_data"
    },
    {
     "data": {
      "image/png": "[encoded data removed]",
      "text/plain": [
       "<Figure size 432x288 with 1 Axes>"
      ]
     },
     "metadata": {
      "needs_background": "light"
     },
     "output_type": "display_data"
    }
   ],
   "source": [
    "\n",
    "# Hoffding's (I think...)\n",
    "x=np.linspace(0.42,0.58)\n",
    "y=5000*np.exp(-2*(x-0.5)**2*10000)\n",
    "\n",
    "\n",
    "plt.hist(nu_c1)\n",
    "plt.title('Coin 1')\n",
    "plt.xlim(0.42,0.58)\n",
    "y=5000*np.exp(-2*(x-0.5)**2*10000)\n",
    "plt.plot(x,y)\n",
    "plt.show()\n",
    "plt.hist(nu_crand)\n",
    "plt.title('Random Coin')\n",
    "plt.xlim(0.42,0.58)\n",
    "plt.plot(x,y)\n",
    "plt.show()\n",
    "plt.hist(nu_cmin)\n",
    "plt.title('Minimum Average')\n",
    "plt.xlim(0.42,0.58)\n",
    "plt.plot(x,y)\n",
    "plt.show()"
   ]
  },
  {
   "cell_type": "markdown",
   "id": "ahead-prefix",
   "metadata": {},
   "source": [
    "The last mean doesn't agree with the lower bound (it's shifted) Because its bias is to be the consistently lowest mean. By putting our foot on the scale like that, we've shifted the boundary"
   ]
  },
  {
   "cell_type": "markdown",
   "id": "cordless-firmware",
   "metadata": {},
   "source": [
    "H 1.2\n",
    "\n",
    "Assume that there are as many red balls as there are blue. $P(B)=P(R)$\n",
    "\n",
    "Knowing the probability of blue and red balls in Bin A ($P(B|A)$ and $P(R|A)$), we can use Bayes' rule to find $P(A|R)$ and $P(A|B)$\n",
    "\n",
    "$P(A|R) = \\frac{P(R|A)P(A)}{P(R)}$\n",
    "$P(B|R) = \\frac{P(B|A)P(A)}{P(B)}$\n",
    "\n",
    "Probability of getting two reds is ${P(A|R)}^2$ and ${P(B|R)}^2$."
   ]
  },
  {
   "cell_type": "code",
   "execution_count": 27,
   "id": "cooked-perspective",
   "metadata": {},
   "outputs": [
    {
     "name": "stdout",
     "output_type": "stream",
     "text": [
      "P(A|R) = 0.0576\n",
      "P(A|B) = 0.31359999999999993\n"
     ]
    }
   ],
   "source": [
    "pa=0.4; pb=0.6; pra=0.3; pba=0.7\n",
    "pr=0.5;pb=0.5\n",
    "par=pra*pa/pr\n",
    "pab=pba*pa/pb\n",
    "# Probability for 2 Red from Bin A\n",
    "print('P(A|R) = '+str(par**2))\n",
    "# Probability for 2 Blue from Bin A\n",
    "print('P(A|B) = '+str(pab**2))"
   ]
  },
  {
   "cell_type": "markdown",
   "id": "prompt-collaboration",
   "metadata": {},
   "source": [
    "This is the same as above. However, let's assume that each of the 4 balls have the same population overall. $P(R)=P(B)=P(W)=P(K)$\n",
    "\n",
    "Without ordering and without replacement, the overall probability is $P(A|B)*P(A|R)$."
   ]
  },
  {
   "cell_type": "code",
   "execution_count": 30,
   "id": "second-nickname",
   "metadata": {},
   "outputs": [
    {
     "name": "stdout",
     "output_type": "stream",
     "text": [
      "P(A|R)*P(A|R) = 0.034999999999999996\n"
     ]
    }
   ],
   "source": [
    "pr=0.25; pa=0.25;\n",
    "pra=0.1; prb=0.4\n",
    "par=pra*pa/pr\n",
    "pab=pba*pa/pb\n",
    "# Probability for 2 Red from Bin A\n",
    "print('P(A|R)*P(A|R) = '+str(par*pab))\n"
   ]
  },
  {
   "cell_type": "markdown",
   "id": "silver-holly",
   "metadata": {},
   "source": [
    "H 1.3\n",
    "\n",
    "Does $\\boldsymbol{w}^T\\boldsymbol{x}+b \\equiv \\sum^N_{n=1}\\alpha_{n}\\left<\\boldsymbol{x}_n,\\boldsymbol{x}\\right> +b$?\n",
    "\n",
    "Given $\\boldsymbol{w}=2(\\mu _+ - \\mu _-)$\n",
    "\n",
    "we have $2(\\mu _+ - \\mu _-) \\boldsymbol{x} = \\sum^N_{n=1}\\alpha_{n}\\left<\\boldsymbol{x}_n,\\boldsymbol{x}\\right>$ \n",
    "\n",
    "Def of inner product $\\left<\\boldsymbol{x}_n,\\boldsymbol{x}\\right> \\equiv \\boldsymbol{x}_n^T\\boldsymbol{x}$ \n",
    "\n",
    "Right-multiply by $\\boldsymbol{x^{-1}}$  (We can ignore the sum at this point. In order for the sums to be equal, each term must be equal.)\n",
    "\n",
    "$2(\\mu _+ - \\mu _-) = \\alpha_{n} \\boldsymbol{x}_n^T$\n",
    "\n",
    "Multiply by $ \\boldsymbol{x}_n^{-T}$ (the rest is a scalar. so L/R doesn't matter).\n",
    "\n",
    "$2(\\mu _+ - \\mu _-)\\boldsymbol{x}_n^{-T} = \\alpha_{n}$\n",
    "\n",
    "The two are equivillent so long as the above is true."
   ]
  },
  {
   "cell_type": "code",
   "execution_count": 61,
   "id": "dressed-newport",
   "metadata": {},
   "outputs": [],
   "source": [
    "# H1.4\n",
    "# This cell takes the data pertaining to 3 random MNIST numbers,\n",
    "# Separate it from the overall MNIST data, and seperates that into a\n",
    "# 600 length training set and a larger test set.\n",
    "num_1 = 4 #3 random numbers\n",
    "num_2 = 7\n",
    "num_3 = 9\n",
    "a= 0 ; b = 0; c = 0; #counters to create training and test sets\n",
    "ytrain=[];xtrain=[];\n",
    "ytest=[];xtest=[];\n",
    "data=np.array(mnist.data)\n",
    "for i in range(len(mnist.target)):\n",
    "    if int(mnist.target[i]) == num_1 and a < 200:\n",
    "        ytrain.append(int(mnist.target[i]))\n",
    "        xtrain.append(data[i])\n",
    "        a+=1\n",
    "    elif int(mnist.target[i]) == num_2 and b < 200:\n",
    "        ytrain.append(int(mnist.target[i]))\n",
    "        xtrain.append(data[i])\n",
    "        b+=1\n",
    "    elif int(mnist.target[i]) == num_3 and c < 200:\n",
    "        ytrain.append(int(mnist.target[i]))\n",
    "        xtrain.append(data[i])\n",
    "        c+=1\n",
    "    elif int(mnist.target[i]) == num_1 and a >= 200:\n",
    "        ytest.append(int(mnist.target[i]))\n",
    "        xtest.append(data[i])\n",
    "    elif int(mnist.target[i]) == num_2 and b >= 200:\n",
    "        ytest.append(int(mnist.target[i]))\n",
    "        xtest.append(data[i])\n",
    "    elif int(mnist.target[i]) == num_3 and c >= 200:\n",
    "        ytest.append(int(mnist.target[i]))\n",
    "        xtest.append(data[i])"
   ]
  },
  {
   "cell_type": "code",
   "execution_count": 151,
   "id": "manufactured-exclusion",
   "metadata": {},
   "outputs": [],
   "source": [
    "from scipy import stats # To get the mode of an array\n",
    "def dist(x1,x2): #cut down on writing\n",
    "    d=np.sqrt(np.sum((x1-x2)**2))    \n",
    "    return d\n",
    "\n",
    "def knn(xtrain,ytrain,xtest,ytest,num_nearest_neighbors):\n",
    "    n=num_nearest_neighbors\n",
    "    y_class=[]\n",
    "    correct_array = np.zeros(len(ytest))\n",
    "    for i in range(len(ytest)): # for each test image\n",
    "        Ds=[] # reinitializes the distances vector\n",
    "        for j in range(len(ytrain)): # for each training image (whose label is known)\n",
    "            Ds.append(dist(xtest[i],xtrain[j])) \n",
    "        sortedDs=np.sort(Ds) #gets minimum distances\n",
    "        top_inds=[] #initializes a storage vector for the indices of the minimum values\n",
    "        for j in range(n):\n",
    "            top_inds=np.append(top_inds,np.where(Ds==sortedDs[j])[0]).astype(int) #gets indicies of minimum values\n",
    "        comparisons=[]\n",
    "        for j in top_inds: # The next couple lines looks to see if the vectors were accurately labelled\n",
    "            comparisons.append(ytrain[j])\n",
    "        y_class=np.append(y_class,stats.mode(comparisons)[0]).astype(int) #Classifies with the category that makes up most of the points surrounding the class\n",
    "        if y_class[i]==ytest[i]:\n",
    "            correct_array[i]=1\n",
    "    num_correct=np.sum(np.sum(correct_array))\n",
    "    percent_success = num_correct/len(ytest)\n",
    "    return y_class,correct_array, percent_success\n",
    "    "
   ]
  },
  {
   "cell_type": "code",
   "execution_count": 155,
   "id": "necessary-inclusion",
   "metadata": {},
   "outputs": [],
   "source": [
    "#only verbose because I want to time every iteration\n",
    "\n",
    "import time \n",
    "start1 = time.time()\n",
    "KNN1=knn(xtrain,ytrain,xtest,ytest,1)\n",
    "end1 = time.time()\n",
    "time_knn1=end1-start1\n",
    "start2 = time.time()\n",
    "KNN2=knn(xtrain,ytrain,xtest,ytest,2)\n",
    "end2 = time.time()\n",
    "time_knn2=end2-start2\n",
    "start3 = time.time()\n",
    "KNN3=knn(xtrain,ytrain,xtest,ytest,3)\n",
    "end3 = time.time()\n",
    "time_knn3=end3-start3\n",
    "start4 = time.time()\n",
    "KNN4=knn(xtrain,ytrain,xtest,ytest,4)\n",
    "end4 = time.time()\n",
    "time_knn4=end4-start4\n",
    "start5 = time.time()\n",
    "KNN5=knn(xtrain,ytrain,xtest,ytest,5)\n",
    "end5 = time.time()\n",
    "time_knn5=end5-start5"
   ]
  },
  {
   "cell_type": "code",
   "execution_count": 162,
   "id": "complicated-retail",
   "metadata": {},
   "outputs": [
    {
     "data": {
      "image/png": "[encoded data removed]",
      "text/plain": [
       "<Figure size 432x288 with 2 Axes>"
      ]
     },
     "metadata": {
      "needs_background": "light"
     },
     "output_type": "display_data"
    }
   ],
   "source": [
    "# Plotting code taken from https://riptutorial.com/matplotlib/example/28015/a-plot-of-2-functions-on-shared-x-axis-\n",
    "\n",
    "fig = plt.figure()\n",
    "ax1=fig.add_subplot(111)\n",
    "accs=[KNN1[2],KNN2[2],KNN3[2],KNN4[2],KNN5[2]]\n",
    "times = [time_knn1,time_knn2,time_knn3,time_knn4,time_knn5]\n",
    "x=[1,2,3,4,5]\n",
    "line1, = ax1.plot(x, accs, 'g', label=\"Accuracies\")\n",
    "ax1.set_xlabel('x')\n",
    "ax1.set_ylabel('Accuracy', color='g')\n",
    "ax2 = ax1.twinx()\n",
    "line2, = ax2.plot(x, times, 'r', label=\"Time to run\")\n",
    "ax2.set_ylabel('time/s', color='r')\n",
    "plt.legend((line1, line2), ('Accuracy/[]', 'Time to run/s'))\n",
    "\n",
    "plt.show()"
   ]
  },
  {
   "cell_type": "code",
   "execution_count": 183,
   "id": "global-reconstruction",
   "metadata": {},
   "outputs": [
    {
     "name": "stdout",
     "output_type": "stream",
     "text": [
      "[217 218 219 220 221]\n"
     ]
    },
    {
     "data": {
      "image/png": "[encoded data removed]",
      "text/plain": [
       "<Figure size 432x288 with 5 Axes>"
      ]
     },
     "metadata": {
      "needs_background": "light"
     },
     "output_type": "display_data"
    },
    {
     "name": "stdout",
     "output_type": "stream",
     "text": [
      "[12 29 33 39 40]\n"
     ]
    },
    {
     "data": {
      "image/png": "[encoded data removed]",
      "text/plain": [
       "<Figure size 432x288 with 5 Axes>"
      ]
     },
     "metadata": {
      "needs_background": "light"
     },
     "output_type": "display_data"
    }
   ],
   "source": [
    "# Correctly Classified\n",
    "\n",
    "good_classifications=np.where(KNN1[1]==1)[0]\n",
    "print(good_classifications[200:205])\n",
    "fig,axs=plt.subplots(1,5)\n",
    "a=0\n",
    "for i in good_classifications[200:205]:\n",
    "    axs[a].imshow(xtest[i].reshape(28,28),cmap='bone')\n",
    "    axs[a].axis('off')\n",
    "    a+=1\n",
    "plt.show()\n",
    "\n",
    "# Incorrectly Classified\n",
    "\n",
    "bad_classifications=np.where(KNN1[1]==0)[0]\n",
    "print(bad_classifications[0:5])\n",
    "fig,axs=plt.subplots(1,5)\n",
    "a=0\n",
    "for i in bad_classifications[0:5]:\n",
    "    axs[a].imshow(xtest[i].reshape(28,28),cmap='bone')\n",
    "    axs[a].axis('off')\n",
    "    a+=1\n",
    "plt.show()"
   ]
  },
  {
   "cell_type": "markdown",
   "id": "derived-division",
   "metadata": {},
   "source": [
    "Well Classified: 7's are well classified. distinct 4's that are far from closed.\n",
    "\n",
    "Poorly classified: They're all very similar, either uncomplete 9's or mishappen 4's"
   ]
  },
  {
   "cell_type": "code",
   "execution_count": 184,
   "id": "mineral-collector",
   "metadata": {},
   "outputs": [],
   "source": [
    "# H1.5\n",
    "import pandas as pd\n",
    "from sklearn import datasets, linear_model"
   ]
  },
  {
   "cell_type": "markdown",
   "id": "smaller-eclipse",
   "metadata": {},
   "source": [
    "I solve this via the direct estimate of the optimal $W$ and $b$. This only works because this is a linear function/is easily differentiable and seperable. Any more complex, and a least squares estimator requires iteration."
   ]
  },
  {
   "cell_type": "code",
   "execution_count": 307,
   "id": "victorian-international",
   "metadata": {},
   "outputs": [
    {
     "data": {
      "image/png": "[encoded data removed]",
      "text/plain": [
       "<Figure size 432x288 with 1 Axes>"
      ]
     },
     "metadata": {},
     "output_type": "display_data"
    }
   ],
   "source": [
    "df = pd.read_csv(\"Housing.csv\")\n",
    "Y = df['price']\n",
    "X = df['lotsize']\n",
    "X=X.values\n",
    "ytrain=Y[:-250]\n",
    "ytest=Y[-250:]\n",
    "xtrain=X[:-250]\n",
    "xtest=X[-250:]\n",
    "\n",
    "plt.scatter(xtest,ytest,color='k',s=2)\n",
    "\n",
    "T= lambda a: np.transpose(a)\n",
    "mul = lambda a,b: np.matmul(a,b)\n",
    "inv=lambda a: np.linalg.inv(a)\n",
    "x=xtrain\n",
    "arr=lambda a: np.array(a,dtype='float32')\n",
    "one=np.ones(x.shape)\n",
    "A=arr([[T(x)],[T(one)]]).reshape(2,296)\n",
    "B=T(arr([x,one]))\n",
    "[W,b]=mul(mul(inv(mul(A,B)),A),ytrain)\n",
    "\n",
    "Y_prop=W*xtest+b\n",
    "\n",
    "plt.plot(xtest,Y_prop,color='r')\n",
    "\n",
    "plt.xlabel('Size')\n",
    "plt.ylabel('Price')\n",
    "plt.xticks(())\n",
    "plt.yticks(())\n",
    "plt.show()"
   ]
  },
  {
   "cell_type": "code",
   "execution_count": 316,
   "id": "level-addition",
   "metadata": {},
   "outputs": [
    {
     "data": {
      "text/plain": [
       "array([5.10577087e+00, 5.35214283e+03, 1.45545478e+04, 1.99261020e+03])"
      ]
     },
     "execution_count": 316,
     "metadata": {},
     "output_type": "execute_result"
    }
   ],
   "source": [
    "X = arr([df['lotsize'].values,df['bedrooms'].values,df['bathrms'].values])\n",
    "xtrain=X[:,:-250]\n",
    "xtest=X[:,-250:]\n",
    "\n",
    "x=xtrain\n",
    "one=np.ones(x.shape[1])\n",
    "XV=np.vstack((x,one))\n",
    "W=mul(mul(inv(mul(XV,T(XV))),XV),ytrain)\n",
    "W"
   ]
  },
  {
   "cell_type": "markdown",
   "id": "twenty-recipient",
   "metadata": {},
   "source": [
    "This is multidimensional data... so it's hard to visualize \\\n",
    "This would mean that the function is a series of iso-price planes. \\\n",
    "The soln $W$ is in the form $W_1, W_2, W_3, b$. So that $y = W_1X_1 + W_2X_2 + W_3X_3 + b$ is the regressed solution"
   ]
  },
  {
   "cell_type": "code",
   "execution_count": null,
   "id": "informative-shopper",
   "metadata": {},
   "outputs": [],
   "source": []
  }
 ],
 "metadata": {
  "kernelspec": {
   "display_name": "Python 3",
   "language": "python",
   "name": "python3"
  },
  "language_info": {
   "codemirror_mode": {
    "name": "ipython",
    "version": 3
   },
   "file_extension": ".py",
   "mimetype": "text/x-python",
   "name": "python",
   "nbconvert_exporter": "python",
   "pygments_lexer": "ipython3",
   "version": "3.7.9"
  }
 },
 "nbformat": 4,
 "nbformat_minor": 5
}
